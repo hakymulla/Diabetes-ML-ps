{
 "cells": [
  {
   "cell_type": "code",
   "execution_count": 1,
   "metadata": {},
   "outputs": [],
   "source": [
    "import  pymongo"
   ]
  },
  {
   "cell_type": "code",
   "execution_count": 3,
   "metadata": {},
   "outputs": [],
   "source": [
    "client = pymongo.MongoClient('mongodb://localhost:27018')\n",
    "db = client.get_database('prediction_service')"
   ]
  },
  {
   "cell_type": "code",
   "execution_count": 4,
   "metadata": {},
   "outputs": [],
   "source": [
    "data_collection = db.get_collection('data')"
   ]
  },
  {
   "cell_type": "code",
   "execution_count": 6,
   "metadata": {},
   "outputs": [],
   "source": [
    "all_data = list(data_collection.find())"
   ]
  },
  {
   "cell_type": "code",
   "execution_count": 7,
   "metadata": {},
   "outputs": [
    {
     "data": {
      "text/plain": [
       "{'_id': ObjectId('62ee83b94021703a6b4b1a8f'),\n",
       " 'HighBP': 1.0,\n",
       " 'HighChol': 1.0,\n",
       " 'CholCheck': 1.0,\n",
       " 'BMI': 40.0,\n",
       " 'Smoker': 1.0,\n",
       " 'Stroke': 0.0,\n",
       " 'HeartDiseaseorAttack': 0.0,\n",
       " 'PhysActivity': 0.0,\n",
       " 'Fruits': 0.0,\n",
       " 'Veggies': 1.0,\n",
       " 'HvyAlcoholConsump': 0.0,\n",
       " 'AnyHealthcare': 1.0,\n",
       " 'NoDocbcCost': 0.0,\n",
       " 'GenHlth': 5.0,\n",
       " 'MentHlth': 18.0,\n",
       " 'PhysHlth': 15.0,\n",
       " 'DiffWalk': 1.0,\n",
       " 'Sex': 0.0,\n",
       " 'Age': 9.0,\n",
       " 'Education': 4.0,\n",
       " 'Income': 3.0,\n",
       " 'prediction': 0.7795519325600736}"
      ]
     },
     "execution_count": 7,
     "metadata": {},
     "output_type": "execute_result"
    }
   ],
   "source": [
    "all_data[0]"
   ]
  },
  {
   "cell_type": "code",
   "execution_count": 3,
   "metadata": {},
   "outputs": [],
   "source": [
    "import pandas as pd"
   ]
  },
  {
   "cell_type": "code",
   "execution_count": 1,
   "metadata": {},
   "outputs": [],
   "source": [
    "dataset = {'HighBP': 1.0,\n",
    "            'HighChol': 0.0,\n",
    "            'CholCheck': 1.0,\n",
    "            'BMI': 26.0,\n",
    "            'Smoker': 0.0,\n",
    "            'Stroke': 0.0,\n",
    "            'HeartDiseaseorAttack': 0.0,\n",
    "            'PhysActivity': 1.0,\n",
    "            'Fruits': 0.0,\n",
    "            'Veggies': 1.0,\n",
    "            'HvyAlcoholConsump': 0.0,\n",
    "            'AnyHealthcare': 1.0,\n",
    "            'NoDocbcCost': 0.0,\n",
    "            'GenHlth': 3.0,\n",
    "            'MentHlth': 5.0,\n",
    "            'PhysHlth': 30.0,\n",
    "            'DiffWalk': 0.0,\n",
    "            'Sex': 1.0,\n",
    "            'Age': 4.0,\n",
    "            'Education': 6.0,\n",
    "            'Income': 8.0\n",
    "     }"
   ]
  },
  {
   "cell_type": "code",
   "execution_count": 4,
   "metadata": {},
   "outputs": [],
   "source": [
    "data = pd.DataFrame.from_dict(dataset, orient='index').T"
   ]
  },
  {
   "cell_type": "code",
   "execution_count": 6,
   "metadata": {},
   "outputs": [
    {
     "data": {
      "text/plain": [
       "pandas.core.frame.DataFrame"
      ]
     },
     "execution_count": 6,
     "metadata": {},
     "output_type": "execute_result"
    }
   ],
   "source": [
    "type(data)"
   ]
  },
  {
   "cell_type": "code",
   "execution_count": null,
   "metadata": {},
   "outputs": [],
   "source": []
  }
 ],
 "metadata": {
  "kernelspec": {
   "display_name": "Python 3.9.12 64-bit ('anaconda3')",
   "language": "python",
   "name": "python3"
  },
  "language_info": {
   "codemirror_mode": {
    "name": "ipython",
    "version": 3
   },
   "file_extension": ".py",
   "mimetype": "text/x-python",
   "name": "python",
   "nbconvert_exporter": "python",
   "pygments_lexer": "ipython3",
   "version": "3.9.12"
  },
  "orig_nbformat": 4,
  "vscode": {
   "interpreter": {
    "hash": "f5ca799acffbb31aa6fd9f242a658978ea4775a3f87d0316653cfbc2b38b7e92"
   }
  }
 },
 "nbformat": 4,
 "nbformat_minor": 2
}
